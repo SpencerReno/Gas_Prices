{
 "cells": [
  {
   "cell_type": "code",
   "execution_count": 62,
   "metadata": {},
   "outputs": [],
   "source": [
    "import pandas as pd \n",
    "import seaborn as sns\n",
    "import matplotlib.pyplot as plt\n",
    "import folium\n",
    "from matplotlib.ticker import FormatStrFormatter\n"
   ]
  },
  {
   "cell_type": "code",
   "execution_count": 28,
   "metadata": {},
   "outputs": [],
   "source": [
    "data = pd.read_csv('D:\\Data_Science_Documents\\Gas_Prices\\data_files\\Petrol_06_23_2022.csv', encoding='latin-1')"
   ]
  },
  {
   "cell_type": "code",
   "execution_count": 29,
   "metadata": {},
   "outputs": [
    {
     "data": {
      "text/plain": [
       "S#                                        int64\n",
       "Country                                  object\n",
       "Daily Oil Consumption (Barrels)          object\n",
       "World Share                              object\n",
       "Yearly Gallons Per Capita               float64\n",
       "Price Per Gallon (USD)                  float64\n",
       "Price Per Liter (USD)                   float64\n",
       "Price Per Liter (PKR)                   float64\n",
       "GDP Per Capita ( USD )                   object\n",
       "Gallons GDP Per Capita Can Buy           object\n",
       "xTimes Yearly Gallons Per Capita Buy      int64\n",
       "dtype: object"
      ]
     },
     "execution_count": 29,
     "metadata": {},
     "output_type": "execute_result"
    }
   ],
   "source": [
    "data.dtypes"
   ]
  },
  {
   "cell_type": "code",
   "execution_count": 30,
   "metadata": {},
   "outputs": [],
   "source": [
    "data['Daily Oil Consumption (Barrels)'] = data['Daily Oil Consumption (Barrels)'].str.replace(',', '').astype(int)"
   ]
  },
  {
   "cell_type": "markdown",
   "metadata": {},
   "source": [
    "replacing the % to represented by the actual decimal fraction"
   ]
  },
  {
   "cell_type": "code",
   "execution_count": 31,
   "metadata": {},
   "outputs": [],
   "source": [
    "data['World Share'] = (data['World Share'].str.replace('%', '').astype(int)  / 100)"
   ]
  },
  {
   "cell_type": "code",
   "execution_count": 35,
   "metadata": {},
   "outputs": [],
   "source": [
    "data['GDP Per Capita ( USD )'] = data['GDP Per Capita ( USD )'].str.replace(',', '').astype(int)"
   ]
  },
  {
   "cell_type": "code",
   "execution_count": 37,
   "metadata": {},
   "outputs": [],
   "source": [
    "data['Gallons GDP Per Capita Can Buy'] = data['Gallons GDP Per Capita Can Buy'].str.replace(',' , '').astype(int)"
   ]
  },
  {
   "cell_type": "code",
   "execution_count": 46,
   "metadata": {},
   "outputs": [],
   "source": [
    "top_five = data[:5]"
   ]
  },
  {
   "cell_type": "code",
   "execution_count": 47,
   "metadata": {},
   "outputs": [
    {
     "data": {
      "text/html": [
       "<div>\n",
       "<style scoped>\n",
       "    .dataframe tbody tr th:only-of-type {\n",
       "        vertical-align: middle;\n",
       "    }\n",
       "\n",
       "    .dataframe tbody tr th {\n",
       "        vertical-align: top;\n",
       "    }\n",
       "\n",
       "    .dataframe thead th {\n",
       "        text-align: right;\n",
       "    }\n",
       "</style>\n",
       "<table border=\"1\" class=\"dataframe\">\n",
       "  <thead>\n",
       "    <tr style=\"text-align: right;\">\n",
       "      <th></th>\n",
       "      <th>S#</th>\n",
       "      <th>Country</th>\n",
       "      <th>Daily Oil Consumption (Barrels)</th>\n",
       "      <th>World Share</th>\n",
       "      <th>Yearly Gallons Per Capita</th>\n",
       "      <th>Price Per Gallon (USD)</th>\n",
       "      <th>Price Per Liter (USD)</th>\n",
       "      <th>Price Per Liter (PKR)</th>\n",
       "      <th>GDP Per Capita ( USD )</th>\n",
       "      <th>Gallons GDP Per Capita Can Buy</th>\n",
       "      <th>xTimes Yearly Gallons Per Capita Buy</th>\n",
       "    </tr>\n",
       "  </thead>\n",
       "  <tbody>\n",
       "    <tr>\n",
       "      <th>0</th>\n",
       "      <td>1</td>\n",
       "      <td>United States</td>\n",
       "      <td>19687287</td>\n",
       "      <td>0.20</td>\n",
       "      <td>934.3</td>\n",
       "      <td>5.19</td>\n",
       "      <td>1.37</td>\n",
       "      <td>289.97</td>\n",
       "      <td>63414</td>\n",
       "      <td>12218</td>\n",
       "      <td>13</td>\n",
       "    </tr>\n",
       "    <tr>\n",
       "      <th>1</th>\n",
       "      <td>2</td>\n",
       "      <td>China</td>\n",
       "      <td>12791553</td>\n",
       "      <td>0.13</td>\n",
       "      <td>138.7</td>\n",
       "      <td>5.42</td>\n",
       "      <td>1.43</td>\n",
       "      <td>302.87</td>\n",
       "      <td>10435</td>\n",
       "      <td>1925</td>\n",
       "      <td>14</td>\n",
       "    </tr>\n",
       "    <tr>\n",
       "      <th>2</th>\n",
       "      <td>3</td>\n",
       "      <td>India</td>\n",
       "      <td>4443000</td>\n",
       "      <td>0.05</td>\n",
       "      <td>51.4</td>\n",
       "      <td>5.05</td>\n",
       "      <td>1.33</td>\n",
       "      <td>281.93</td>\n",
       "      <td>1901</td>\n",
       "      <td>376</td>\n",
       "      <td>7</td>\n",
       "    </tr>\n",
       "    <tr>\n",
       "      <th>3</th>\n",
       "      <td>4</td>\n",
       "      <td>Japan</td>\n",
       "      <td>4012877</td>\n",
       "      <td>0.04</td>\n",
       "      <td>481.5</td>\n",
       "      <td>4.69</td>\n",
       "      <td>1.24</td>\n",
       "      <td>262.05</td>\n",
       "      <td>40193</td>\n",
       "      <td>8570</td>\n",
       "      <td>18</td>\n",
       "    </tr>\n",
       "    <tr>\n",
       "      <th>4</th>\n",
       "      <td>5</td>\n",
       "      <td>Russia</td>\n",
       "      <td>3631287</td>\n",
       "      <td>0.04</td>\n",
       "      <td>383.2</td>\n",
       "      <td>3.41</td>\n",
       "      <td>0.90</td>\n",
       "      <td>190.56</td>\n",
       "      <td>10127</td>\n",
       "      <td>2970</td>\n",
       "      <td>8</td>\n",
       "    </tr>\n",
       "  </tbody>\n",
       "</table>\n",
       "</div>"
      ],
      "text/plain": [
       "   S#        Country  Daily Oil Consumption (Barrels)  World Share  \\\n",
       "0   1  United States                         19687287         0.20   \n",
       "1   2          China                         12791553         0.13   \n",
       "2   3          India                          4443000         0.05   \n",
       "3   4          Japan                          4012877         0.04   \n",
       "4   5         Russia                          3631287         0.04   \n",
       "\n",
       "   Yearly Gallons Per Capita  Price Per Gallon (USD)  Price Per Liter (USD)  \\\n",
       "0                      934.3                    5.19                   1.37   \n",
       "1                      138.7                    5.42                   1.43   \n",
       "2                       51.4                    5.05                   1.33   \n",
       "3                      481.5                    4.69                   1.24   \n",
       "4                      383.2                    3.41                   0.90   \n",
       "\n",
       "   Price Per Liter (PKR)  GDP Per Capita ( USD )  \\\n",
       "0                 289.97                   63414   \n",
       "1                 302.87                   10435   \n",
       "2                 281.93                    1901   \n",
       "3                 262.05                   40193   \n",
       "4                 190.56                   10127   \n",
       "\n",
       "   Gallons GDP Per Capita Can Buy  xTimes Yearly Gallons Per Capita Buy  \n",
       "0                           12218                                    13  \n",
       "1                            1925                                    14  \n",
       "2                             376                                     7  \n",
       "3                            8570                                    18  \n",
       "4                            2970                                     8  "
      ]
     },
     "execution_count": 47,
     "metadata": {},
     "output_type": "execute_result"
    }
   ],
   "source": [
    "top_five"
   ]
  },
  {
   "cell_type": "code",
   "execution_count": 82,
   "metadata": {},
   "outputs": [
    {
     "name": "stderr",
     "output_type": "stream",
     "text": [
      "c:\\Users\\sreno\\anaconda3\\lib\\site-packages\\seaborn\\_decorators.py:36: FutureWarning: Pass the following variables as keyword args: x, y. From version 0.12, the only valid positional argument will be `data`, and passing other arguments without an explicit keyword will result in an error or misinterpretation.\n",
      "  warnings.warn(\n"
     ]
    },
    {
     "data": {
      "image/png": "[encoded data removed]",
      "text/plain": [
       "<Figure size 1080x576 with 1 Axes>"
      ]
     },
     "metadata": {},
     "output_type": "display_data"
    }
   ],
   "source": [
    "fig = plt.figure(figsize=(15,8))\n",
    "\n",
    "ax = sns.barplot(top_five['Country'] , top_five['Daily Oil Consumption (Barrels)'], color='skyblue')\n",
    "plt.title('Top 5 Countries with Highest Daily Oil Consumption Barrels (42 Gallons per)', fontsize=15)\n",
    "plt.xlabel('Countries', fontsize=13)\n",
    "plt.ylabel('Oil Consumption (Barrels)', fontsize=13)\n",
    "\n",
    "ax.yaxis.set_major_formatter(FormatStrFormatter('%.0f'))\n",
    "\n",
    "\n",
    "fig.set_facecolor('#5b626e')\n",
    "ax.set_facecolor('#5b626e')\n",
    "\n",
    "plt.ylim((0,23000000))\n",
    "plt.grid(axis='y', color='black')\n",
    "plt.show()"
   ]
  },
  {
   "cell_type": "code",
   "execution_count": 83,
   "metadata": {},
   "outputs": [
    {
     "name": "stderr",
     "output_type": "stream",
     "text": [
      "c:\\Users\\sreno\\anaconda3\\lib\\site-packages\\seaborn\\_decorators.py:36: FutureWarning: Pass the following variables as keyword args: x, y. From version 0.12, the only valid positional argument will be `data`, and passing other arguments without an explicit keyword will result in an error or misinterpretation.\n",
      "  warnings.warn(\n"
     ]
    },
    {
     "data": {
      "image/png": "[encoded data removed]",
      "text/plain": [
       "<Figure size 1080x576 with 1 Axes>"
      ]
     },
     "metadata": {},
     "output_type": "display_data"
    }
   ],
   "source": [
    "fig = plt.figure(figsize=(15,8))\n",
    "\n",
    "ax = sns.barplot(top_five['Country'] , top_five['Price Per Gallon (USD)'], color='skyblue')\n",
    "plt.title('Top 5 Countries with Highest Price Per Gallon (USD)', fontsize=15)\n",
    "plt.xlabel('Countries', fontsize=13)\n",
    "plt.ylabel('Price Per Gallon (USD)', fontsize=13)\n",
    "\n",
    "ax.yaxis.set_major_formatter(FormatStrFormatter('%.0f'))\n",
    "\n",
    "\n",
    "fig.set_facecolor('#5b626e')\n",
    "ax.set_facecolor('#5b626e')\n",
    "\n",
    "plt.ylim((0,6))\n",
    "plt.grid(axis='y', color='black')\n",
    "plt.show()"
   ]
  },
  {
   "cell_type": "code",
   "execution_count": null,
   "metadata": {},
   "outputs": [],
   "source": []
  }
 ],
 "metadata": {
  "kernelspec": {
   "display_name": "Python 3.8.5 ('base')",
   "language": "python",
   "name": "python3"
  },
  "language_info": {
   "codemirror_mode": {
    "name": "ipython",
    "version": 3
   },
   "file_extension": ".py",
   "mimetype": "text/x-python",
   "name": "python",
   "nbconvert_exporter": "python",
   "pygments_lexer": "ipython3",
   "version": "3.8.5"
  },
  "orig_nbformat": 4,
  "vscode": {
   "interpreter": {
    "hash": "cfa738ae5ae4cbd113fff36f62c2daab72b71b275f55ab6a1ff8d1ed76467dcb"
   }
  }
 },
 "nbformat": 4,
 "nbformat_minor": 2
}
